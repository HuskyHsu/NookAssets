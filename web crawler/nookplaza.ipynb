{
 "cells": [
  {
   "cell_type": "code",
   "execution_count": 1,
   "metadata": {
    "collapsed": false
   },
   "outputs": [],
   "source": [
    "import requests\n",
    "import csv\n",
    "import json\n",
    "import re\n",
    "import ast"
   ]
  },
  {
   "cell_type": "code",
   "execution_count": 2,
   "metadata": {
    "collapsed": false
   },
   "outputs": [],
   "source": [
    "url = 'https://nookplaza.net/main.dart.js?v=3'\n",
    "r = requests.get(url)\n",
    "mainJs = r.text"
   ]
  },
  {
   "cell_type": "code",
   "execution_count": 3,
   "metadata": {
    "collapsed": false
   },
   "outputs": [
    {
     "output_type": "stream",
     "name": "stdout",
     "text": "5715\n5713\n"
    }
   ],
   "source": [
    "# 'C.Iz=new H.b(13,{},C.a,[P.a,P.a])'\n",
    "m = re.findall('new H\\.b\\(13,(.*),C\\.a,\\[P\\.a,P\\.a\\]\\)', mainJs)\n",
    "print(len(m))\n",
    "\n",
    "m = [item.encode(\"utf-8\").decode('unicode-escape') for item in m]\n",
    "m = [ast.literal_eval(item) for item in m if not 'null' in item]\n",
    "print(len(m))\n",
    "\n",
    "nameMap = {}\n",
    "for item in m:\n",
    "    nameMap[item[\"en-us\"].lower()] = item"
   ]
  },
  {
   "cell_type": "code",
   "execution_count": 4,
   "metadata": {
    "collapsed": false
   },
   "outputs": [
    {
     "output_type": "execute_result",
     "data": {
      "text/plain": "{'en-us': 'street organ',\n 'en-gb': 'street organ',\n 'de-de': 'Drehorgel',\n 'es-es': 'organillo en carro',\n 'fr-fr': 'orgue de barbarie',\n 'fr-ca': 'orgue de barbarie',\n 'it-it': 'organo a rullo',\n 'nl-nl': 'draaiorgel',\n 'zh-cn': '手摇风琴',\n 'zh-tw': '手搖風琴',\n 'ja-jp': 'てまわしオルガン',\n 'ko-kr': '배럴 오르간',\n 'ru-ru': 'шарманка'}"
     },
     "metadata": {},
     "execution_count": 4
    }
   ],
   "source": [
    "nameMap['street organ']"
   ]
  },
  {
   "cell_type": "code",
   "execution_count": 5,
   "metadata": {
    "collapsed": true
   },
   "outputs": [],
   "source": [
    "url = 'https://api.nookplaza.net/items?category=Furniture'\n",
    "r = requests.get(url)\n",
    "data = r.json()['results']"
   ]
  },
  {
   "cell_type": "code",
   "execution_count": 14,
   "metadata": {
    "collapsed": false,
    "scrolled": true
   },
   "outputs": [],
   "source": [
    "idMap = {}\n",
    "output = [['id', '名稱(英文)', '名稱(中文)', '買價', '賣價', '分類', '標籤', '主題', '可互動', '大小', '取得方式', 'DIY', '款式改造', '樣式改造', '圖片', '款式', '樣式']]\n",
    "for item in data:\n",
    "    if item[\"category\"] == \"Art\":\n",
    "        continue\n",
    "    name = nameMap[item['name'].lower()]\n",
    "    nameMap[item['name'].lower()]['id'] = item['content']['internalID']\n",
    "    idMap[item['content']['internalID']] = item\n",
    "    \n",
    "    # 名稱 買價 賣價\n",
    "    row = [int(item['content']['internalID']), name['en-us'], name['zh-tw'], item['content']['buy'], item['content']['sell']]\n",
    "\n",
    "    # 分類 標籤 主題\n",
    "    # 'category' 'tag' 'themes'\n",
    "    if \"None\" in item['content']['themes']:\n",
    "        item['content']['themes'].remove(\"None\")\n",
    "    row += [item['content']['category'], item['content']['tag'], '、'.join(item['content']['themes'])]\n",
    "    \n",
    "    # 互動 大小\n",
    "    row += [item['content']['interact'], '{}x{}'.format(item['content']['size']['rows'], item['content']['size']['cols'])]\n",
    "\n",
    "    # 取得方式 DIY\n",
    "    if not 'dIY' in item['content']:\n",
    "        print(item)\n",
    "    row += ['、'.join(item['content']['obtainedFrom']), item['content']['dIY']]\n",
    "        \n",
    "    # 改造-款式 樣式\n",
    "    # bodyCustomize bodyColor bodyTitle; patternCustomize patternColor patternTitle\n",
    "    row += [item['content']['bodyCustomize'], item['content']['patternCustomize']]\n",
    "\n",
    "    # 圖片檔名\n",
    "    row += [item['content']['filename']]\n",
    "\n",
    "    bodys = set()\n",
    "    pattrens = set()\n",
    "    for variation in item['variations']:\n",
    "        content = variation['content']\n",
    "        filename = content['filename']\n",
    "        body, pattren = filename.split('_')[-2:]\n",
    "        bodys.add(body)\n",
    "        pattrens.add(pattren)\n",
    "\n",
    "        # FtrKatakatatoy_Remake_0_0\n",
    "        pass\n",
    "    \n",
    "    bodys = list(bodys)\n",
    "    pattrens = list(pattrens)\n",
    "    row += ['body:{},pattrens:{}'.format(','.join(bodys), ','.join(pattrens))]\n",
    "       \n",
    "#     print(row)\n",
    "    output.append(row)\n",
    "output[1:] = sorted(output[1:], key=lambda k: k[0])"
   ]
  },
  {
   "cell_type": "code",
   "execution_count": 15,
   "metadata": {
    "collapsed": false
   },
   "outputs": [],
   "source": [
    "with open('items.csv', 'wt', encoding='utf-8', newline='') as fout:\n",
    "    csvout = csv.writer(fout)\n",
    "    csvout.writerows(output)"
   ]
  },
  {
   "cell_type": "code",
   "execution_count": null,
   "metadata": {
    "collapsed": true
   },
   "outputs": [],
   "source": []
  }
 ],
 "metadata": {
  "kernelspec": {
   "display_name": "Python 3",
   "language": "python",
   "name": "python3"
  },
  "language_info": {
   "codemirror_mode": {
    "name": "ipython",
    "version": 3
   },
   "file_extension": ".py",
   "mimetype": "text/x-python",
   "name": "python",
   "nbconvert_exporter": "python",
   "pygments_lexer": "ipython3",
   "version": "3.7.5-final"
  }
 },
 "nbformat": 4,
 "nbformat_minor": 2
}