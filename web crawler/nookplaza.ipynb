{
 "cells": [
  {
   "cell_type": "code",
   "execution_count": 1,
   "metadata": {
    "collapsed": false
   },
   "outputs": [],
   "source": [
    "import requests\n",
    "import csv\n",
    "import json\n",
    "import re\n",
    "import ast"
   ]
  },
  {
   "cell_type": "code",
   "execution_count": 13,
   "metadata": {
    "collapsed": true
   },
   "outputs": [],
   "source": [
    "en2twList = [[\"Housewares\",\"家具\"], [\"Miscellaneous\",\"小物件\"], [\"Wall-mounted\",\"壁掛物\"], [\"Birthday\",\"活動-玩家生日\"], [\"Bug-Off\",\"活動-抓蟲大會\"], [\"Bunny Day\",\"活動-復活節\"], [\"C.J.\",\"俞司廷\"], [\"Crafting\",\"DIY\"], [\"Dodo Airlines\",\"Dodo公司\"], [\"Fishing Tourney\",\"活動-釣魚大賽\"], [\"Flick\",\"龍克斯\"], [\"Gulliver\",\"呂游\"], [\"HHA\",\"快樂家協會\"], [\"International Museum Day\",\"活動-國際博物館日\"], [\"Mom\",\"媽媽寄送\"], [\"Nintendo、Nook Shopping\",\"購物-特別購物\"], [\"Nook Miles Shop\",\"購物-哩數兌換\"], [\"Nook Shopping Promotion\",\"購物-手游連動\"], [\"Nook Shopping Seasonal\",\"購物-季節\"], [\"Nook's Cranny\",\"Nook商店\"], [\"Rover\",\"活動-勞動節\"], [\"Snowman\",\"活動-雪人\"], [\"Starting items\",\"起始物品\"], [\"Wedding Season\",\"活動-六月新娘\"], [\"Air Conditioning\",\"空調\"], [\"Animal\",\"動物\"], [\"Arch\",\"拱門\"], [\"Audio\",\"音響\"], [\"Bathroom Things\",\"浴室用品\"], [\"Bathtub\",\"浴缸\"], [\"Beauty\",\"美妝\"], [\"Bed\",\"床鋪\"], [\"Chair\",\"椅子\"], [\"Chest\",\"櫃子\"], [\"Clock\",\"時鐘\"], [\"Compass\",\"羅盤\"], [\"Desk\",\"檯子/桌子\"], [\"Dining\",\"餐飲\"], [\"Dresser\",\"梳妝台\"], [\"Easter\",\"復活節\"], [\"Facility Decor\",\"設施裝飾\"], [\"Fan\",\"風扇\"], [\"Fireplace\",\"壁爐\"], [\"Fish\",\"魚\"], [\"Folk Craft Decor\",\"民俗藝品\"], [\"Game Console\",\"遊戲機\"], [\"Garden\",\"花園\"], [\"Heating\",\"加熱器\"], [\"Home Appliances\",\"家用電器\"], [\"Hospital\",\"醫院\"], [\"House Door Decor\",\"屋門裝飾\"], [\"Insect\",\"昆蟲\"], [\"Japanese Style\",\"日式\"], [\"Kitchen\",\"廚房\"], [\"Kitchen Things\",\"廚房用品\"], [\"Lamp\",\"燈\"], [\"Museum\",\"博物館\"], [\"Musical Instrument\",\"樂器\"], [\"Office\",\"辦公室\"], [\"Outdoors Decor\",\"戶外裝飾\"], [\"Plants\",\"植物\"], [\"Playground\",\"操場\"], [\"Ranch\",\"牧場\"], [\"School\",\"學校\"], [\"Screen\",\"螢幕\"], [\"Sculpture\",\"雕塑\"], [\"Seaside\",\"海濱\"], [\"Seasonal Decor\",\"季節性裝飾\"], [\"Sewing Table\",\"縫紉桌\"], [\"Shelf\",\"架子\"], [\"Shop\",\"商店\"], [\"Sofa\",\"沙發\"], [\"Space\",\"太空\"], [\"Special Fish\",\"特殊魚\"], [\"Special Insect\",\"特殊昆蟲\"], [\"Sports\",\"運動\"], [\"Study\",\"讀書\"], [\"Supplies\",\"耗材\"], [\"Table\",\"桌子\"], [\"Toilet\",\"廁所\"], [\"Toy\",\"玩具\"], [\"TV\",\"電視\"], [\"Vehicle\",\"車輛\"], [\"Work Bench\",\"工作台\"], [\"bathroom\",\"浴室\"], [\"child's room\",\"兒童房\"], [\"concert\",\"音樂會\"], [\"den\",\"書桌\"], [\"expensive\",\"昂貴\"], [\"facility\",\"設施\"], [\"fancy\",\"豪華時髦的\"], [\"fitness\",\"健身\"], [\"folk art\",\"民間藝術\"], [\"freezing cold\",\"雪季\"], [\"garage\",\"車庫\"], [\"garden\",\"花園\"], [\"horror\",\"恐怖\"], [\"kitchen\",\"廚房\"], [\"living room\",\"客廳\"], [\"music\",\"音樂\"], [\"ocean\",\"海洋\"], [\"office\",\"辦公室\"], [\"outdoors\",\"戶外活動\"], [\"party\",\"派對\"], [\"school\",\"學校\"], [\"shop\",\"商店\"], [\"space\",\"太空\"], [\"zen-style\",\"禪宗風格\"]]\n",
    "en2tw = {}\n",
    "for en, tw in en2twList:\n",
    "    en2tw[en] = tw\n",
    "\n",
    "def en2twFn(en):\n",
    "    if en in en2tw:\n",
    "        return en2tw[en]\n",
    "    return en"
   ]
  },
  {
   "cell_type": "code",
   "execution_count": 2,
   "metadata": {
    "collapsed": false
   },
   "outputs": [],
   "source": [
    "url = 'https://nookplaza.net/main.dart.js?v=9'\n",
    "r = requests.get(url)\n",
    "mainJs = r.text"
   ]
  },
  {
   "cell_type": "code",
   "execution_count": 3,
   "metadata": {
    "collapsed": false
   },
   "outputs": [
    {
     "name": "stdout",
     "output_type": "stream",
     "text": [
      "5715\n",
      "5713\n"
     ]
    }
   ],
   "source": [
    "# 'C.Iz=new H.b(13,{},C.a,[P.a,P.a])'\n",
    "m = re.findall('new H\\.b\\(13,(.*),C\\.a,\\[P\\.a,P\\.a\\]\\)', mainJs)\n",
    "print(len(m))\n",
    "\n",
    "m = [item.encode(\"utf-8\").decode('unicode-escape') for item in m]\n",
    "m = [ast.literal_eval(item) for item in m if not 'null' in item]\n",
    "print(len(m))\n",
    "\n",
    "nameMap = {}\n",
    "for item in m:\n",
    "    nameMap[item[\"en-us\"].lower()] = item"
   ]
  },
  {
   "cell_type": "code",
   "execution_count": 4,
   "metadata": {
    "collapsed": false
   },
   "outputs": [
    {
     "data": {
      "text/plain": [
       "{'de-de': 'Drehorgel',\n",
       " 'en-gb': 'street organ',\n",
       " 'en-us': 'street organ',\n",
       " 'es-es': 'organillo en carro',\n",
       " 'fr-ca': 'orgue de barbarie',\n",
       " 'fr-fr': 'orgue de barbarie',\n",
       " 'it-it': 'organo a rullo',\n",
       " 'ja-jp': 'てまわしオルガン',\n",
       " 'ko-kr': '배럴 오르간',\n",
       " 'nl-nl': 'draaiorgel',\n",
       " 'ru-ru': 'шарманка',\n",
       " 'zh-cn': '手摇风琴',\n",
       " 'zh-tw': '手搖風琴'}"
      ]
     },
     "execution_count": 4,
     "metadata": {},
     "output_type": "execute_result"
    }
   ],
   "source": [
    "nameMap['street organ']"
   ]
  },
  {
   "cell_type": "code",
   "execution_count": 22,
   "metadata": {
    "collapsed": true
   },
   "outputs": [],
   "source": [
    "url = 'https://api.nookplaza.net/items?category=Furniture'\n",
    "r = requests.get(url)\n",
    "data = r.json()['results']"
   ]
  },
  {
   "cell_type": "code",
   "execution_count": 27,
   "metadata": {
    "collapsed": false,
    "scrolled": true
   },
   "outputs": [],
   "source": [
    "idMap = {}\n",
    "bodySet = set()\n",
    "patternSet = set()\n",
    "dictName = ['id', 'name_e', 'name_j', 'name_c', 'buy', 'sell', 'category', 'tag', 'themes', 'interact', 'size', 'obtainedFrom', 'DIY']\n",
    "dictName += ['filename', 'bodyTitle', 'patternTitle', 'bodyCustomize', 'patternCustomize', 'bodys', 'pattrens', 'variations']\n",
    "\n",
    "output = [['id', '名稱(英文)', '名稱(日文)', '名稱(中文)', '買價', '賣價', '分類', '標籤', '主題', '可互動', '大小', '取得方式', 'DIY', '圖片', '款式說明', '樣式說明', '款式改造', '樣式改造', '款式', '樣式', '檔名對照索引']]\n",
    "for item in data:\n",
    "    if item[\"category\"] == \"Art\":\n",
    "        continue\n",
    "    name = nameMap[item['name'].lower()]\n",
    "    nameMap[item['name'].lower()]['id'] = item['content']['internalID']\n",
    "    idMap[item['content']['internalID']] = item\n",
    "\n",
    "#     print(item['content'])\n",
    "    item['content']['category_'] = en2twFn(item['content']['category'])\n",
    "    item['content']['tag_'] = en2twFn(item['content']['tag'])\n",
    "    item['content']['themes_'] = [en2twFn(theme) for theme in item['content']['themes']]\n",
    "    item['content']['obtainedFrom_'] = [en2twFn(item) for item in item['content']['obtainedFrom']]\n",
    "    \n",
    "    # 名稱 買價 賣價\n",
    "    row = [int(item['content']['internalID']), name['en-us'], name['ja-jp'], name['zh-tw'], item['content']['buy'], item['content']['sell']]\n",
    "\n",
    "    # 分類 標籤 主題\n",
    "    # 'category' 'tag' 'themes'\n",
    "    if \"None\" in item['content']['themes_']:\n",
    "        item['content']['themes_'].remove(\"None\")\n",
    "    row += [item['content']['category_'], item['content']['tag_'], '、'.join(item['content']['themes_'])]\n",
    "    \n",
    "    # 互動 大小\n",
    "    row += [item['content']['interact'], '{}x{}'.format(item['content']['size']['rows'], item['content']['size']['cols'])]\n",
    "\n",
    "    # 取得方式 DIY\n",
    "    if not 'dIY' in item['content']:\n",
    "        print(item)\n",
    "    row += ['、'.join(item['content']['obtainedFrom_']), item['content']['dIY']]\n",
    "\n",
    "    # 圖片檔名\n",
    "    row += [item['content']['filename']]\n",
    "    \n",
    "    # 改造-款式 樣式\n",
    "    # bodyCustomize bodyColor bodyTitle; patternCustomize patternColor patternTitle\n",
    "    row += [item['content']['bodyTitle'], item['content']['patternTitle'], item['content']['bodyCustomize'], item['content']['patternCustomize']]\n",
    "\n",
    "    variations = {\n",
    "        \"bodys\": {},\n",
    "        \"pattrens\": {}\n",
    "    }\n",
    "    for variation in item['variations']:\n",
    "        content = variation['content']\n",
    "        filename = content['filename']\n",
    "        bodyIndex, pattrenIndex = filename.split('_')[-2:]\n",
    "        \n",
    "        bodyColor = '' if content['bodyColor'] is None else content['bodyColor']\n",
    "        patternColor = '' if content['patternColor'] is None else content['patternColor']\n",
    "        \n",
    "        variations['bodys'][bodyColor] = bodyIndex\n",
    "        variations['pattrens'][patternColor] = pattrenIndex\n",
    "        \n",
    "        bodySet.add(bodyColor)\n",
    "        patternSet.add(patternColor)\n",
    "\n",
    "    row += ['、'.join(list(variations['bodys'].keys())), '、'.join(list(variations['pattrens'].keys())), variations]\n",
    "       \n",
    "#     print(row)\n",
    "    output.append(row)\n",
    "output[1:] = sorted(output[1:], key=lambda k: k[0])"
   ]
  },
  {
   "cell_type": "code",
   "execution_count": 28,
   "metadata": {
    "collapsed": false
   },
   "outputs": [],
   "source": [
    "with open('items.csv', 'wt', encoding='utf-8', newline='') as fout:\n",
    "    csvout = csv.writer(fout)\n",
    "    csvout.writerows(output)\n",
    "\n",
    "jsonOutput = []\n",
    "for row in output[0:]:\n",
    "    j = {}\n",
    "    for index, item in enumerate(row):\n",
    "        j[dictName[index]] = item\n",
    "    jsonOutput.append(j)\n",
    "\n",
    "with open('furniture.json', 'wt') as fout:\n",
    "    fout.write(json.dumps(jsonOutput))"
   ]
  },
  {
   "cell_type": "code",
   "execution_count": null,
   "metadata": {
    "collapsed": true
   },
   "outputs": [],
   "source": []
  }
 ],
 "metadata": {
  "kernelspec": {
   "display_name": "Python 3",
   "language": "python",
   "name": "python3"
  },
  "language_info": {
   "codemirror_mode": {
    "name": "ipython",
    "version": 3
   },
   "file_extension": ".py",
   "mimetype": "text/x-python",
   "name": "python",
   "nbconvert_exporter": "python",
   "pygments_lexer": "ipython3",
   "version": "3.6.0"
  }
 },
 "nbformat": 4,
 "nbformat_minor": 2
}
