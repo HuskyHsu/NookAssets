{
 "cells": [
  {
   "cell_type": "code",
   "execution_count": 1,
   "metadata": {
    "collapsed": false
   },
   "outputs": [],
   "source": [
    "import requests\n",
    "import csv\n",
    "import json\n",
    "import re\n",
    "import ast"
   ]
  },
  {
   "cell_type": "code",
   "execution_count": 2,
   "metadata": {
    "collapsed": false
   },
   "outputs": [],
   "source": [
    "url = 'https://nookplaza.net/main.dart.js?v=3'\n",
    "r = requests.get(url)\n",
    "mainJs = r.text"
   ]
  },
  {
   "cell_type": "markdown",
   "metadata": {},
   "source": [
    "C.mm=new H.b(13,{\"en-us\":\"bunny hood\",\"en-gb\":\"bunny hood\",\"de-de\":\"Hasenkapuze\",\"es-es\":\"gorro de conejito\",\"fr-fr\":\"cagoule lapin\",\"fr-ca\":\"cagoule lapin\",\"it-it\":\"cappello da coniglio\",\"nl-nl\":\"konijnenmuts\",\"zh-cn\":\"\\u5154\\u5b50\\u5934\\u5957\",\"zh-tw\":\"\\u5154\\u5b50\\u982d\\u5957\",\"ja-jp\":\"\\u30a6\\u30b5\\u30ae\\u306e\\u304b\\u3076\\u308a\\u3082\\u306e\",\"ko-kr\":\"\\ud1a0\\ub07c \\ubaa8\\uc790\",\"ru-ru\":\"\\u0448\\u0430\\u043f\\u043a\\u0430 \\u0437\\u0430\\u0439\\u043a\\u0438\"},C.a,[P.a,P.a])"
   ]
  },
  {
   "cell_type": "code",
   "execution_count": 3,
   "metadata": {
    "collapsed": false
   },
   "outputs": [
    {
     "name": "stdout",
     "output_type": "stream",
     "text": [
      "5715\n"
     ]
    }
   ],
   "source": [
    "# 'C.Iz=new H.b(13,{},C.a,[P.a,P.a])'\n",
    "m = re.findall('new H\\.b\\(13,(.*),C\\.a,\\[P\\.a,P\\.a\\]\\)', mainJs)\n",
    "print(len(m))"
   ]
  },
  {
   "cell_type": "code",
   "execution_count": 4,
   "metadata": {
    "collapsed": false
   },
   "outputs": [
    {
     "name": "stdout",
     "output_type": "stream",
     "text": [
      "5713\n"
     ]
    }
   ],
   "source": [
    "m = [item.encode(\"utf-8\").decode('unicode-escape') for item in m]\n",
    "m = [ast.literal_eval(item) for item in m if not 'null' in item]\n",
    "print(len(m))"
   ]
  },
  {
   "cell_type": "code",
   "execution_count": 5,
   "metadata": {
    "collapsed": false
   },
   "outputs": [],
   "source": [
    "nameMap = {}\n",
    "for item in m:\n",
    "    nameMap[item[\"en-us\"].lower()] = item"
   ]
  },
  {
   "cell_type": "code",
   "execution_count": 86,
   "metadata": {
    "collapsed": false
   },
   "outputs": [
    {
     "data": {
      "text/plain": [
       "{'de-de': 'Drehorgel',\n",
       " 'en-gb': 'street organ',\n",
       " 'en-us': 'street organ',\n",
       " 'es-es': 'organillo en carro',\n",
       " 'fr-ca': 'orgue de barbarie',\n",
       " 'fr-fr': 'orgue de barbarie',\n",
       " 'it-it': 'organo a rullo',\n",
       " 'ja-jp': 'てまわしオルガン',\n",
       " 'ko-kr': '배럴 오르간',\n",
       " 'nl-nl': 'draaiorgel',\n",
       " 'ru-ru': 'шарманка',\n",
       " 'zh-cn': '手摇风琴',\n",
       " 'zh-tw': '手搖風琴'}"
      ]
     },
     "execution_count": 86,
     "metadata": {},
     "output_type": "execute_result"
    }
   ],
   "source": [
    "nameMap['street organ']"
   ]
  },
  {
   "cell_type": "code",
   "execution_count": 7,
   "metadata": {
    "collapsed": true
   },
   "outputs": [],
   "source": [
    "url = 'https://api.nookplaza.net/items?category=Furniture'\n",
    "r = requests.get(url)\n",
    "data = r.json()['results']"
   ]
  },
  {
   "cell_type": "markdown",
   "metadata": {},
   "source": [
    "image\n",
    "布置大小\n",
    "\n",
    "改造顏色\n",
    "物品分類\n",
    "tag\n",
    "主題\n",
    "可互動否"
   ]
  },
  {
   "cell_type": "code",
   "execution_count": 12,
   "metadata": {
    "collapsed": false,
    "scrolled": true
   },
   "outputs": [],
   "source": [
    "output = [['id', '名稱(英文)', '名稱(中文)', '買價', '賣價', '分類', '標籤', '主題', '可互動', '大小', '取得方式', 'DIY', '款式改造', '樣式改造']]\n",
    "for item in data:\n",
    "    if item[\"category\"] == \"Art\":\n",
    "        continue\n",
    "    name = nameMap[item['name'].lower()]\n",
    "    nameMap[item['name'].lower()]['id'] = item['content']['internalID']\n",
    "    \n",
    "    # 名稱 買價 賣價\n",
    "    row = [item['content']['internalID'], name['en-us'], name['zh-tw'], item['content']['buy'], item['content']['sell']]\n",
    "\n",
    "    # 分類 標籤 主題\n",
    "    # 'category' 'tag' 'themes'\n",
    "    if \"None\" in item['content']['themes']:\n",
    "        item['content']['themes'].remove(\"None\")\n",
    "    row += [item['content']['category'], item['content']['tag'], '、'.join(item['content']['themes'])]\n",
    "    \n",
    "    # 互動 大小\n",
    "    row += [item['content']['interact'], '{}x{}'.format(item['content']['size']['rows'], item['content']['size']['cols'])]\n",
    "\n",
    "    # 取得方式 DIY\n",
    "    if not 'dIY' in item['content']:\n",
    "        print(item)\n",
    "    row += ['、'.join(item['content']['obtainedFrom']), item['content']['dIY']]\n",
    "        \n",
    "    # 改造-款式 樣式\n",
    "    # bodyCustomize bodyColor bodyTitle; patternCustomize patternColor patternTitle\n",
    "    row += [item['content']['bodyCustomize'], item['content']['patternCustomize']]\n",
    "    \n",
    "    for variation in item['variations']:\n",
    "        content = variation['content']\n",
    "        pass\n",
    "    \n",
    "#     print(row)\n",
    "    output.append(row)"
   ]
  },
  {
   "cell_type": "code",
   "execution_count": 13,
   "metadata": {
    "collapsed": false
   },
   "outputs": [],
   "source": [
    "with open('items.csv', 'wt', encoding='utf-8', newline='') as fout:\n",
    "    csvout = csv.writer(fout)\n",
    "    csvout.writerows(output)"
   ]
  },
  {
   "cell_type": "code",
   "execution_count": null,
   "metadata": {
    "collapsed": true
   },
   "outputs": [],
   "source": []
  }
 ],
 "metadata": {
  "kernelspec": {
   "display_name": "Python 3",
   "language": "python",
   "name": "python3"
  },
  "language_info": {
   "codemirror_mode": {
    "name": "ipython",
    "version": 3
   },
   "file_extension": ".py",
   "mimetype": "text/x-python",
   "name": "python",
   "nbconvert_exporter": "python",
   "pygments_lexer": "ipython3",
   "version": "3.6.0"
  }
 },
 "nbformat": 4,
 "nbformat_minor": 2
}
