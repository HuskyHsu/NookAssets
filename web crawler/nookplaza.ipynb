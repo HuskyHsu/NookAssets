{
 "cells": [
  {
   "cell_type": "code",
   "execution_count": 1,
   "metadata": {
    "collapsed": true
   },
   "outputs": [],
   "source": [
    "import csv\n",
    "import json\n",
    "import re\n",
    "import ast\n",
    "\n",
    "import pandas as pd\n",
    "import requests"
   ]
  },
  {
   "cell_type": "code",
   "execution_count": 2,
   "metadata": {
    "collapsed": true
   },
   "outputs": [],
   "source": [
    "def getItem(category):\n",
    "    url = 'https://api.nookplaza.net/items?category={}'.format(category)\n",
    "    r = requests.get(url)\n",
    "    text = r.json()\n",
    "    return text['results']"
   ]
  },
  {
   "cell_type": "code",
   "execution_count": 3,
   "metadata": {
    "collapsed": false
   },
   "outputs": [
    {
     "name": "stdout",
     "output_type": "stream",
     "text": [
      "get 5713 i18n data\n",
      "Custom 832 i18n data\n"
     ]
    }
   ],
   "source": [
    "nookplazaUrl = 'https://nookplaza.net'\n",
    "r = requests.get(nookplazaUrl)\n",
    "\n",
    "m = re.search('main\\.dart\\.js\\?v=(\\d*)', r.text)\n",
    "dartJs = m.group()\n",
    "\n",
    "mainJsUrl = '{}/{}'.format(nookplazaUrl, dartJs)\n",
    "r = requests.get(mainJsUrl)\n",
    "mainJs = r.text\n",
    "\n",
    "# 'C.Iz=new H.b(13,{},C.a,[P.a,P.a])'\n",
    "m = re.findall('new H\\.b\\(13,(.*),C\\.a,\\[P\\.a,P\\.a\\]\\)', mainJs)\n",
    "\n",
    "m = [item.encode(\"utf-8\").decode('unicode-escape') for item in m]\n",
    "m = [ast.literal_eval(item) for item in m if not 'null' in item]\n",
    "\n",
    "nameMap = {}\n",
    "for item in m:\n",
    "    nameMap[item[\"en-us\"]] = item\n",
    "\n",
    "print('get {} i18n data'.format(len(nameMap.keys())))\n",
    "\n",
    "df = pd.read_excel('../tempData/Furniture.xlsx',sheetname=1)\n",
    "\n",
    "EnTwTable = ['類別', '取得方式', '標籤', '主題', '款式', '樣式', '款式說明', '樣式說明', 'DIY原料']\n",
    "\n",
    "nameMapCustom = {}\n",
    "for EnTw in EnTwTable:\n",
    "    itemType_en = df[EnTw].tolist()\n",
    "    itemType_tw = df['{}_tw'.format(EnTw)].tolist()\n",
    "    itemType_en = [x for x in itemType_en if str(x) != 'nan']\n",
    "    itemType_tw = [x for x in itemType_tw if str(x) != 'nan']\n",
    "    \n",
    "    for item in zip(itemType_en, itemType_tw):\n",
    "        if item[0] in nameMapCustom and item[1] != nameMapCustom[item[0]]['zh-tw']:\n",
    "            print(item)\n",
    "            print(nameMapCustom[item[0]])\n",
    "            print('------\\n')\n",
    "    \n",
    "        nameMapCustom[item[0]] = {\n",
    "            'zh-tw': item[1]\n",
    "        }\n",
    "        \n",
    "print('Custom {} i18n data'.format(len(nameMapCustom.keys())))\n",
    "\n",
    "def en2twFn(en):\n",
    "    if en.lower() in nameMap:\n",
    "        return nameMap[en.lower()]\n",
    "\n",
    "    elif (en[0].lower() + en[1:]) in nameMap:\n",
    "        return nameMap[(en[0].lower() + en[1:])]\n",
    "    \n",
    "    elif en in nameMap:\n",
    "        return nameMap[en]\n",
    "    \n",
    "    elif en in nameMapCustom:\n",
    "        return nameMapCustom[en]\n",
    "    \n",
    "    elif en.lower() in nameMapCustom:\n",
    "        return nameMapCustom[en.lower()]\n",
    "\n",
    "    elif (en[0].lower() + en[1:]) in nameMapCustom:\n",
    "        return nameMapCustom[(en[0].lower() + en[1:])]\n",
    "    \n",
    "    else:\n",
    "        print(en)\n",
    "        raise en\n",
    "#         return {'zh-tw': en}"
   ]
  },
  {
   "cell_type": "code",
   "execution_count": 4,
   "metadata": {
    "collapsed": false
   },
   "outputs": [],
   "source": [
    "output = []\n",
    "\n",
    "furnitures = getItem('Furniture')\n",
    "recipes = getItem('Recipes')\n",
    "\n",
    "DIYMap = {}\n",
    "for diy in recipes:\n",
    "    DIYMap[diy['name']] = diy['content']\n",
    "\n",
    "for item in furnitures:\n",
    "    if item[\"category\"] == \"Art\":\n",
    "        continue\n",
    "        \n",
    "    pickData = {}\n",
    "    name = en2twFn(item['name'])\n",
    "    \n",
    "    pickData['id'] = int(item['content']['internalID'])\n",
    "    pickData['name_c'] = name['zh-tw']\n",
    "    pickData['name_j'] = name['ja-jp']\n",
    "    pickData['name_e'] = name['en-us']\n",
    "    pickData['buy'] = item['content']['buy']\n",
    "    pickData['sell'] = item['content']['sell']\n",
    "\n",
    "    pickData['category'] = en2twFn(item['content']['category'])['zh-tw']\n",
    "    pickData['tag'] = en2twFn(item['content']['tag'])['zh-tw']\n",
    "    pickData['themes'] = [en2twFn(theme)['zh-tw'] for theme in item['content']['themes'] if theme != 'None']\n",
    "    \n",
    "    pickData['interact'] = item['content']['interact']\n",
    "    pickData['size'] = '{}x{}'.format(item['content']['size']['rows'], item['content']['size']['cols'])\n",
    "    pickData['obtainedFrom'] = '、'.join([en2twFn(item)['zh-tw'] for item in item['content']['obtainedFrom']])\n",
    "    pickData['DIY'] = item['content']['dIY']\n",
    "    pickData['diyInfo'] = {}\n",
    "\n",
    "    if item['content']['dIY']:\n",
    "        diyInfo = DIYMap[item['name']]\n",
    "        pickData['diyInfo']['materials'] = [{'count': item['count'], 'itemName': en2twFn(item['itemName'])['zh-tw']} for item in diyInfo['materials']]\n",
    "        pickData['diyInfo']['obtainedFrom'] = [(en2twFn(obtainedFrom)['zh-tw'] if 'villagers' in obtainedFrom else obtainedFrom) for obtainedFrom in diyInfo['obtainedFrom']]\n",
    "        pickData['diyInfo']['sourceNotes'] = diyInfo['sourceNotes']\n",
    "        \n",
    "    pickData['filename'] = item['content']['filename']\n",
    "    \n",
    "    pickData['bodyTitle'] = '無' if item['content']['bodyTitle'] is None else en2twFn(item['content']['bodyTitle'])['zh-tw']\n",
    "    pickData['bodyCustomize'] = item['content']['bodyCustomize']\n",
    "    \n",
    "    pickData['patternTitle'] = '無' if item['content']['patternTitle'] is None else en2twFn(item['content']['patternTitle'])['zh-tw']\n",
    "    pickData['patternCustomize'] = item['content']['patternCustomize']\n",
    "\n",
    "    variations = {\n",
    "        \"bodys\": {},\n",
    "        \"pattrens\": {}\n",
    "    }\n",
    "    for variation in item['variations']:\n",
    "        content = variation['content']\n",
    "        bodyIndex, pattrenIndex = content['filename'].split('_')[-2:]\n",
    "        \n",
    "        bodyColor = '' if content['bodyColor'] is None else en2twFn(content['bodyColor'])['zh-tw']\n",
    "        patternColor = '' if content['patternColor'] is None else en2twFn(content['patternColor'])['zh-tw']\n",
    "        \n",
    "        variations['bodys'][bodyColor] = bodyIndex\n",
    "        variations['pattrens'][patternColor] = pattrenIndex\n",
    "        \n",
    "    pickData['variations'] = variations\n",
    "    output.append(pickData)\n",
    "\n",
    "output = sorted(output, key=lambda k: k['id'])"
   ]
  },
  {
   "cell_type": "code",
   "execution_count": 5,
   "metadata": {
    "collapsed": true
   },
   "outputs": [],
   "source": [
    "with open('../../nook_link/src/data/furniture.json', 'wt') as fout:\n",
    "    fout.write(json.dumps(output))\n",
    "\n",
    "with open('furniture.json', 'wt') as fout:\n",
    "    fout.write(json.dumps(output))\n",
    "\n",
    "dictName = ['id', 'name_e', 'name_j', 'name_c', 'buy', 'sell', 'category', 'tag', 'themes', 'interact', 'size', 'obtainedFrom', 'DIY', 'diyInfo']\n",
    "dictName += ['filename', 'bodyTitle', 'patternTitle', 'bodyCustomize', 'patternCustomize', 'variations']\n",
    "\n",
    "with open('items.csv', 'wt', encoding='utf-8', newline='') as fout:\n",
    "    csvout = csv.writer(fout)\n",
    "    \n",
    "    output_csv = [dictName]\n",
    "    for row in output:\n",
    "        row_ = [row[name] for name in dictName]\n",
    "        output_csv.append(row_)\n",
    "    csvout.writerows(output_csv)"
   ]
  }
 ],
 "metadata": {
  "kernelspec": {
   "display_name": "Python 3",
   "language": "python",
   "name": "python3"
  },
  "language_info": {
   "codemirror_mode": {
    "name": "ipython",
    "version": 3
   },
   "file_extension": ".py",
   "mimetype": "text/x-python",
   "name": "python",
   "nbconvert_exporter": "python",
   "pygments_lexer": "ipython3",
   "version": "3.6.0"
  }
 },
 "nbformat": 4,
 "nbformat_minor": 2
}
