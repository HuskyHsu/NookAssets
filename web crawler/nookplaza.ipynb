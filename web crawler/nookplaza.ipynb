{
 "cells": [
  {
   "cell_type": "code",
   "execution_count": 1,
   "metadata": {
    "collapsed": true
   },
   "outputs": [],
   "source": [
    "import requests\n",
    "import csv\n",
    "import json\n",
    "import re\n",
    "import ast"
   ]
  },
  {
   "cell_type": "code",
   "execution_count": 13,
   "metadata": {
    "collapsed": false
   },
   "outputs": [
    {
     "name": "stdout",
     "output_type": "stream",
     "text": [
      "808\n"
     ]
    }
   ],
   "source": [
    "with open('../tempData/en2tw.txt', 'rt', encoding='utf-8', newline='') as fin:\n",
    "    cin = csv.reader(fin, delimiter='\t')\n",
    "    en2twList = [row for row in cin]\n",
    "print(len(en2twList))\n",
    "\n",
    "for en, tw in en2twList:\n",
    "    en2tw[en] = tw\n",
    "    \n",
    "def en2twFn(en):\n",
    "    if en in en2tw:\n",
    "        return en2tw[en]\n",
    "    return en"
   ]
  },
  {
   "cell_type": "code",
   "execution_count": 3,
   "metadata": {
    "collapsed": true
   },
   "outputs": [],
   "source": [
    "url = 'https://nookplaza.net/main.dart.js?v=9'\n",
    "r = requests.get(url)\n",
    "mainJs = r.text"
   ]
  },
  {
   "cell_type": "code",
   "execution_count": 4,
   "metadata": {
    "collapsed": false
   },
   "outputs": [
    {
     "name": "stdout",
     "output_type": "stream",
     "text": [
      "5715\n",
      "5713\n"
     ]
    }
   ],
   "source": [
    "# 'C.Iz=new H.b(13,{},C.a,[P.a,P.a])'\n",
    "m = re.findall('new H\\.b\\(13,(.*),C\\.a,\\[P\\.a,P\\.a\\]\\)', mainJs)\n",
    "print(len(m))\n",
    "\n",
    "m = [item.encode(\"utf-8\").decode('unicode-escape') for item in m]\n",
    "m = [ast.literal_eval(item) for item in m if not 'null' in item]\n",
    "print(len(m))\n",
    "\n",
    "nameMap = {}\n",
    "for item in m:\n",
    "    nameMap[item[\"en-us\"].lower()] = item"
   ]
  },
  {
   "cell_type": "code",
   "execution_count": 19,
   "metadata": {
    "collapsed": false
   },
   "outputs": [
    {
     "ename": "KeyError",
     "evalue": "'Black'",
     "output_type": "error",
     "traceback": [
      "\u001b[0;31m---------------------------------------------------------------------------\u001b[0m",
      "\u001b[0;31mKeyError\u001b[0m                                  Traceback (most recent call last)",
      "\u001b[0;32m<ipython-input-19-5090fb12a4f1>\u001b[0m in \u001b[0;36m<module>\u001b[0;34m()\u001b[0m\n\u001b[0;32m----> 1\u001b[0;31m \u001b[0mnameMap\u001b[0m\u001b[1;33m[\u001b[0m\u001b[1;34m'Black'\u001b[0m\u001b[1;33m]\u001b[0m\u001b[1;33m\u001b[0m\u001b[0m\n\u001b[0m",
      "\u001b[0;31mKeyError\u001b[0m: 'Black'"
     ]
    }
   ],
   "source": [
    "nameMap['Black']"
   ]
  },
  {
   "cell_type": "code",
   "execution_count": 6,
   "metadata": {
    "collapsed": true
   },
   "outputs": [],
   "source": [
    "url = 'https://api.nookplaza.net/items?category=Furniture'\n",
    "r = requests.get(url)\n",
    "data = r.json()['results']"
   ]
  },
  {
   "cell_type": "code",
   "execution_count": 20,
   "metadata": {
    "collapsed": false,
    "scrolled": true
   },
   "outputs": [],
   "source": [
    "idMap = {}\n",
    "dictName = ['id', 'name_e', 'name_j', 'name_c', 'buy', 'sell', 'category', 'tag', 'themes', 'interact', 'size', 'obtainedFrom', 'DIY']\n",
    "dictName += ['filename', 'bodyTitle', 'patternTitle', 'bodyCustomize', 'patternCustomize', 'bodys', 'pattrens', 'variations']\n",
    "\n",
    "output = [['id', '名稱(英文)', '名稱(日文)', '名稱(中文)', '買價', '賣價', '分類', '標籤', '主題', '可互動', '大小', '取得方式', 'DIY', '圖片', '款式說明', '樣式說明', '款式改造', '樣式改造', '款式', '樣式', '檔名對照索引']]\n",
    "for item in data:\n",
    "    if item[\"category\"] == \"Art\":\n",
    "        continue\n",
    "    name = nameMap[item['name'].lower()]\n",
    "    nameMap[item['name'].lower()]['id'] = item['content']['internalID']\n",
    "    idMap[item['content']['internalID']] = item\n",
    "\n",
    "#     print(item['content'])\n",
    "    item['content']['category_'] = en2twFn(item['content']['category'])\n",
    "    item['content']['tag_'] = en2twFn(item['content']['tag'])\n",
    "    item['content']['themes_'] = [en2twFn(theme) for theme in item['content']['themes']]\n",
    "    item['content']['obtainedFrom_'] = [en2twFn(item) for item in item['content']['obtainedFrom']]\n",
    "    \n",
    "    # 名稱 買價 賣價\n",
    "    row = [int(item['content']['internalID']), name['en-us'], name['ja-jp'], name['zh-tw'], item['content']['buy'], item['content']['sell']]\n",
    "\n",
    "    # 分類 標籤 主題\n",
    "    # 'category' 'tag' 'themes'\n",
    "    if \"沒有\" in item['content']['themes_']:\n",
    "        item['content']['themes_'].remove(\"沒有\")\n",
    "    row += [item['content']['category_'], item['content']['tag_'], '、'.join(item['content']['themes_'])]\n",
    "    \n",
    "    # 互動 大小\n",
    "    row += [item['content']['interact'], '{}x{}'.format(item['content']['size']['rows'], item['content']['size']['cols'])]\n",
    "\n",
    "    # 取得方式 DIY\n",
    "    if not 'dIY' in item['content']:\n",
    "        print(item)\n",
    "    row += ['、'.join(item['content']['obtainedFrom_']), item['content']['dIY']]\n",
    "\n",
    "    # 圖片檔名\n",
    "    row += [item['content']['filename']]\n",
    "    \n",
    "    # 改造-款式 樣式\n",
    "    # bodyCustomize bodyColor bodyTitle; patternCustomize patternColor patternTitle\n",
    "    row += [item['content']['bodyTitle'], item['content']['patternTitle'], item['content']['bodyCustomize'], item['content']['patternCustomize']]\n",
    "\n",
    "    variations = {\n",
    "        \"bodys\": {},\n",
    "        \"pattrens\": {}\n",
    "    }\n",
    "    for variation in item['variations']:\n",
    "        content = variation['content']\n",
    "        filename = content['filename']\n",
    "        bodyIndex, pattrenIndex = filename.split('_')[-2:]\n",
    "        \n",
    "        bodyColor = '' if content['bodyColor'] is None else content['bodyColor']\n",
    "        patternColor = '' if content['patternColor'] is None else content['patternColor']\n",
    "        \n",
    "        variations['bodys'][bodyColor] = bodyIndex\n",
    "        variations['pattrens'][patternColor] = pattrenIndex\n",
    "\n",
    "#         response = requests.get(content['image'])\n",
    "#         with open('../img/furniture/{}.png'.format(filename), \"wb\") as fout:\n",
    "#             fout.write(response.content)\n",
    "        \n",
    "    row += ['、'.join(list(variations['bodys'].keys())), '、'.join(list(variations['pattrens'].keys())), variations]\n",
    "       \n",
    "#     print(row)\n",
    "    output.append(row)\n",
    "output[1:] = sorted(output[1:], key=lambda k: k[0])"
   ]
  },
  {
   "cell_type": "code",
   "execution_count": 22,
   "metadata": {
    "collapsed": true
   },
   "outputs": [],
   "source": [
    "with open('items.csv', 'wt', encoding='utf-8', newline='') as fout:\n",
    "    csvout = csv.writer(fout)\n",
    "    csvout.writerows(output)\n",
    "\n",
    "jsonOutput = []\n",
    "for row in output[0:]:\n",
    "    j = {}\n",
    "    for index, item in enumerate(row):\n",
    "        j[dictName[index]] = item\n",
    "    jsonOutput.append(j)\n",
    "\n",
    "with open('../../nook_link/src/data/furniture.json', 'wt') as fout:\n",
    "    fout.write(json.dumps(jsonOutput))\n",
    "    \n",
    "with open('furniture.json', 'wt') as fout:\n",
    "    fout.write(json.dumps(jsonOutput))"
   ]
  },
  {
   "cell_type": "code",
   "execution_count": null,
   "metadata": {
    "collapsed": true
   },
   "outputs": [],
   "source": []
  }
 ],
 "metadata": {
  "kernelspec": {
   "display_name": "Python 3",
   "language": "python",
   "name": "python3"
  },
  "language_info": {
   "codemirror_mode": {
    "name": "ipython",
    "version": 3
   },
   "file_extension": ".py",
   "mimetype": "text/x-python",
   "name": "python",
   "nbconvert_exporter": "python",
   "pygments_lexer": "ipython3",
   "version": "3.6.0"
  }
 },
 "nbformat": 4,
 "nbformat_minor": 2
}
