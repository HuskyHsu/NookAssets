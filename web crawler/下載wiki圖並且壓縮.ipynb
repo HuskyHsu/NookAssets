{
 "cells": [
  {
   "cell_type": "code",
   "execution_count": null,
   "metadata": {},
   "outputs": [],
   "source": [
    "from PIL import Image\n",
    "import requests\n",
    "\n",
    "Image.MAX_IMAGE_PIXELS = 1000000000"
   ]
  },
  {
   "cell_type": "code",
   "execution_count": null,
   "metadata": {},
   "outputs": [],
   "source": [
    "filesName = [\"FtrArtHunterSnow\", \"FtrArtMikaeri\", \"FtrArtMilkmaid\", \"FtrArtBlueBoy\", \"FtrArtMonaLisa\", \"FtrArtAppleOrange\", \"FtrArtPortraitCecilia\", \"FtrArtPearlEarring\", \"FtrArtBirthVenus\", \"FtrArtClothedMaja\", \"FtrArtKanagawaOki\", \"FtrArtSummer\", \"FtrArtGleaners\", \"FtrArtBarFB\", \"FtrArtFifePlayer\", \"FtrArtSunflower\", \"FtrArtSlower\", \"FtrArtNightWatch\", \"FtrArtOotaniOniji\", \"FtrArtLibertyLeading\", \"FtrArtLasMeninas\", \"FtrArtFuujin\", \"FtrArtSundayOn\", \"FtrSculptureCapitolini\", \"FtrSculptureDavid\", \"FtrSculptureDiskobolos\", \"FtrSculptureDoguu\", \"FtrSculptureKamehameha\", \"FtrSculptureMilo\", \"FtrSculptureNefertiti\", \"FtrSculptureSamothrace\", \"FtrSculptureOlmecaHead\", \"FtrSculptureRosettaStone\", \"FtrSculptureHoumuwuDing\", \"FtrSculptureHeibayo\", \"FtrSculptureThinker\", \"FtrArtRaijin\", \"FtrArtStarryNight\", \"FtrArtVitruvianMan\", \"FtrArtOphelia\", \"FtrArtAjisaisoukeizu\", \"FtrArtFightingTemeraire\", \"FtrArtIsleOfDead\"]"
   ]
  },
  {
   "cell_type": "code",
   "execution_count": null,
   "metadata": {},
   "outputs": [],
   "source": [
    "arts = [\n",
    "    \"https://upload.wikimedia.org/wikipedia/commons/d/d8/Pieter_Bruegel_the_Elder_-_Hunters_in_the_Snow_%28Winter%29_-_Google_Art_Project.jpg\", \n",
    "    \"https://upload.wikimedia.org/wikipedia/commons/7/7f/Beauty_looking_back.jpg\", \n",
    "    \"https://upload.wikimedia.org/wikipedia/commons/2/20/Johannes_Vermeer_-_Het_melkmeisje_-_Google_Art_Project.jpg\", \n",
    "    \"https://upload.wikimedia.org/wikipedia/commons/7/7e/Thomas_Gainsborough_-_The_Blue_Boy_%28The_Huntington_Library%2C_San_Marino_L._A.%29.jpg\", \n",
    "    \"https://upload.wikimedia.org/wikipedia/commons/e/ec/Mona_Lisa%2C_by_Leonardo_da_Vinci%2C_from_C2RMF_retouched.jpg\", \n",
    "    \"https://ss.net.tw/images/product_images/popup_images/1116_01551828110.jpg\", \n",
    "    \"https://upload.wikimedia.org/wikipedia/commons/e/ed/Dama_z_gronostajem.jpg\", \n",
    "    \"https://upload.wikimedia.org/wikipedia/commons/d/d7/Meisje_met_de_parel.jpg\", \n",
    "    \"https://upload.wikimedia.org/wikipedia/commons/thumb/0/0b/Sandro_Botticelli_-_La_nascita_di_Venere_-_Google_Art_Project_-_edited.jpg/1280px-Sandro_Botticelli_-_La_nascita_di_Venere_-_Google_Art_Project_-_edited.jpg\", \n",
    "    \"https://upload.wikimedia.org/wikipedia/commons/a/a6/Goya_Maja_ubrana2.jpg\", \n",
    "    \"https://upload.wikimedia.org/wikipedia/commons/a/a5/Tsunami_by_hokusai_19th_century.jpg\", \n",
    "    \"https://upload.wikimedia.org/wikipedia/commons/9/9a/Giuseppe_Arcimboldo_-_Summer%2C_1573.jpg\", \n",
    "    \"https://upload.wikimedia.org/wikipedia/commons/1/1f/Jean-Fran%C3%A7ois_Millet_-_Gleaners_-_Google_Art_Project_2.jpg\", \n",
    "    \"https://upload.wikimedia.org/wikipedia/commons/8/8f/Edouard_Manet_004.jpg\", \n",
    "    \"https://upload.wikimedia.org/wikipedia/commons/a/a2/Manet%2C_Edouard_-_Young_Flautist%2C_or_The_Fifer%2C_1866_%282%29.jpg\", \n",
    "    \"https://upload.wikimedia.org/wikipedia/commons/4/46/Vincent_Willem_van_Gogh_127.jpg\", \n",
    "    \"https://upload.wikimedia.org/wikipedia/commons/0/0b/Jean-Fran%C3%A7ois_Millet_%28II%29_013.jpg\", \n",
    "    \"https://upload.wikimedia.org/wikipedia/commons/3/3a/La_ronda_de_noche%2C_por_Rembrandt_van_Rijn.jpg\", \n",
    "    \"https://upload.wikimedia.org/wikipedia/commons/0/0e/Toshusai_Sharaku-_Otani_Oniji%2C_1794.jpg\", \n",
    "    \"https://upload.wikimedia.org/wikipedia/commons/5/5d/Eug%C3%A8ne_Delacroix_-_Le_28_Juillet._La_Libert%C3%A9_guidant_le_peuple.jpg\", \n",
    "    \"https://upload.wikimedia.org/wikipedia/commons/3/31/Las_Meninas%2C_by_Diego_Vel%C3%A1zquez%2C_from_Prado_in_Google_Earth.jpg\", \n",
    "    \"https://upload.wikimedia.org/wikipedia/commons/1/10/Fujinraijin-tawaraya.jpg\", \n",
    "    \"https://upload.wikimedia.org/wikipedia/commons/7/7d/A_Sunday_on_La_Grande_Jatte%2C_Georges_Seurat%2C_1884.jpg\", \n",
    "    \"https://upload.wikimedia.org/wikipedia/commons/a/aa/Capitoline_she-wolf_Musei_Capitolini_MC1181.jpg\", \n",
    "    \"https://upload.wikimedia.org/wikipedia/commons/a/a0/%27David%27_by_Michelangelo_Fir_JBU002.jpg\", \n",
    "    \"https://upload.wikimedia.org/wikipedia/commons/5/5f/Greek_statue_discus_thrower_2_century_aC.jpg\", \n",
    "    \"https://upload.wikimedia.org/wikipedia/commons/6/6c/Dogu_Miyagi_1000_BCE_400_BCE.jpg\", \n",
    "    \"https://upload.wikimedia.org/wikipedia/commons/e/ee/Kamehameha_I_full_5110.png\", \n",
    "    \"https://upload.wikimedia.org/wikipedia/commons/a/a5/Venus_de_Milo_Louvre_Ma399.jpg\", \n",
    "    \"https://upload.wikimedia.org/wikipedia/commons/1/1f/Nofretete_Neues_Museum.jpg\", \n",
    "    \"https://upload.wikimedia.org/wikipedia/commons/e/ee/Nike_of_Samothrake_Louvre_Ma2369_n2.jpg\", \n",
    "    \"https://upload.wikimedia.org/wikipedia/commons/d/d5/Olmeca_head_in_Villahermosa.jpg\", \n",
    "    \"https://upload.wikimedia.org/wikipedia/commons/2/23/Rosetta_Stone.JPG\", \n",
    "    \"https://upload.wikimedia.org/wikipedia/commons/c/c2/HouMuWuDingFullView.jpg\", \n",
    "    \"https://upload.wikimedia.org/wikipedia/commons/a/af/I_was_impressed_with_the_life-like_expression_%2835300697030%29.jpg\", \n",
    "    \"https://upload.wikimedia.org/wikipedia/commons/b/bf/Le_Penseur_in_the_Jardin_du_Mus%C3%A9e_Rodin%2C_Paris_14_June_2015.jpg\", \n",
    "    \"https://upload.wikimedia.org/wikipedia/commons/1/10/Fujinraijin-tawaraya.jpg\", \n",
    "    \"https://upload.wikimedia.org/wikipedia/commons/e/ea/Van_Gogh_-_Starry_Night_-_Google_Art_Project.jpg\", \n",
    "    \"https://upload.wikimedia.org/wikipedia/commons/thumb/2/22/Da_Vinci_Vitruve_Luc_Viatour.jpg/800px-Da_Vinci_Vitruve_Luc_Viatour.jpg\", \n",
    "    \"https://upload.wikimedia.org/wikipedia/commons/9/94/John_Everett_Millais_-_Ophelia_-_Google_Art_Project.jpg\", \n",
    "    \"https://ct.yimg.com/xd/api/res/1.2/gP8ifaikOCI2Ln96GIQrcw--/YXBwaWQ9eXR3YXVjdGlvbnNlcnZpY2U7aD02MDA7cT04NTtyb3RhdGU9YXV0bzt3PTQxNg--/https://s.yimg.com/ob/image/84f4c987-39fd-4a2a-b4cf-557b0a8d25fb.jpg\", \n",
    "    \"https://upload.wikimedia.org/wikipedia/commons/3/30/The_Fighting_Temeraire%2C_JMW_Turner%2C_National_Gallery.jpg\", \n",
    "    \"https://upload.wikimedia.org/wikipedia/commons/d/de/Arnold_B%C3%B6cklin_-_Die_Toteninsel_I_%28Basel%2C_Kunstmuseum%29.jpg\"\n",
    "]"
   ]
  },
  {
   "cell_type": "code",
   "execution_count": null,
   "metadata": {},
   "outputs": [],
   "source": [
    "for index, artUrl in enumerate(arts):\n",
    "    r = requests.get(artUrl, stream=True)\n",
    "    if r.status_code == 200:\n",
    "        with open('../img/art_raw/{}.jpg'.format(filesName[index]), 'wb') as f:\n",
    "            for chunk in r:\n",
    "                f.write(chunk)"
   ]
  },
  {
   "cell_type": "code",
   "execution_count": null,
   "metadata": {
    "scrolled": true
   },
   "outputs": [],
   "source": [
    "for fileName in filesName:\n",
    "    img = Image.open('../img/art_raw/{}.jpg'.format(fileName))\n",
    "    print(img.size)\n",
    "\n",
    "    img.thumbnail((1024, 1024))\n",
    "    print(img.size)\n",
    "    img.save('../img/art/{}.jpg'.format(fileName))\n"
   ]
  },
  {
   "cell_type": "code",
   "execution_count": null,
   "metadata": {},
   "outputs": [],
   "source": []
  }
 ],
 "metadata": {
  "kernelspec": {
   "display_name": "Python 3",
   "language": "python",
   "name": "python3"
  },
  "language_info": {
   "codemirror_mode": {
    "name": "ipython",
    "version": 3
   },
   "file_extension": ".py",
   "mimetype": "text/x-python",
   "name": "python",
   "nbconvert_exporter": "python",
   "pygments_lexer": "ipython3",
   "version": "3.7.5"
  }
 },
 "nbformat": 4,
 "nbformat_minor": 4
}
