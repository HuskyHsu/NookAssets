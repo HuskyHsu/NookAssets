{
 "cells": [
  {
   "cell_type": "code",
   "execution_count": 1,
   "metadata": {
    "collapsed": true
   },
   "outputs": [],
   "source": [
    "import csv\n",
    "import json"
   ]
  },
  {
   "cell_type": "code",
   "execution_count": 6,
   "metadata": {
    "collapsed": false
   },
   "outputs": [],
   "source": [
    "for name in ['fish', 'insect']:\n",
    "    with open('../{}.txt'.format(name), 'rt', encoding='utf-8') as fin:\n",
    "        fieldnames = fin.readline().replace('\\ufeff', '').replace('\\n', '').split('\\t')\n",
    "    #     print(fieldnames)\n",
    "        cin = csv.DictReader(fin, fieldnames=fieldnames, delimiter='\\t')\n",
    "        fishs = [row for row in cin]\n",
    "\n",
    "    for row in fishs:\n",
    "        row['price'] = int(row['price'])\n",
    "        N = [False] * 12\n",
    "        S = [False] * 12\n",
    "        for m in row['N_month'].split(';'):\n",
    "            N[int(m) - 1] = True\n",
    "        for m in row['S_month'].split(';'):\n",
    "            S[int(m) - 1] = True \n",
    "        \n",
    "        row['N_month'] = N\n",
    "        row['S_month'] = S\n",
    "\n",
    "    y = json.dumps(fishs)\n",
    "    with open('../{}.json'.format(name), 'wt') as fout:\n",
    "        fout.write(y)"
   ]
  },
  {
   "cell_type": "code",
   "execution_count": 4,
   "metadata": {
    "collapsed": false
   },
   "outputs": [
    {
     "data": {
      "text/plain": [
       "[False,\n",
       " False,\n",
       " False,\n",
       " False,\n",
       " False,\n",
       " False,\n",
       " False,\n",
       " False,\n",
       " False,\n",
       " False,\n",
       " False,\n",
       " False]"
      ]
     },
     "execution_count": 4,
     "metadata": {},
     "output_type": "execute_result"
    }
   ],
   "source": [
    "[False] * 12"
   ]
  },
  {
   "cell_type": "code",
   "execution_count": null,
   "metadata": {
    "collapsed": true
   },
   "outputs": [],
   "source": []
  }
 ],
 "metadata": {
  "kernelspec": {
   "display_name": "Python 3",
   "language": "python",
   "name": "python3"
  },
  "language_info": {
   "codemirror_mode": {
    "name": "ipython",
    "version": 3
   },
   "file_extension": ".py",
   "mimetype": "text/x-python",
   "name": "python",
   "nbconvert_exporter": "python",
   "pygments_lexer": "ipython3",
   "version": "3.6.0"
  }
 },
 "nbformat": 4,
 "nbformat_minor": 2
}
